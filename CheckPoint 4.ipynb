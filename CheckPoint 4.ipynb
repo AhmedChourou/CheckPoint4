{
 "cells": [
  {
   "cell_type": "code",
   "execution_count": null,
   "id": "dde747be-fdc2-4175-b07d-589fe8f3bdef",
   "metadata": {},
   "outputs": [],
   "source": [
    "#question 1\n",
    "def max(a,b,c):\n",
    "    if a>b and a>c:\n",
    "        print('max number is:',a,)\n",
    "    elif b>a and b>c:\n",
    "        print('max number is:',b,)\n",
    "    else:\n",
    "        print('max number is:',c,)\n",
    "max(1,2,3)"
   ]
  },
  {
   "cell_type": "code",
   "execution_count": null,
   "id": "52531a9c-bd99-46ff-bec1-5bc03386a9df",
   "metadata": {},
   "outputs": [],
   "source": [
    "#question 2\n",
    "def calculation(a,b):\n",
    "    print(a+b,',',a-b)\n",
    "calculation(10,5)"
   ]
  },
  {
   "cell_type": "code",
   "execution_count": null,
   "id": "cb2e851e-e210-4c7d-a9c1-0b4b5b5e3122",
   "metadata": {},
   "outputs": [],
   "source": [
    "#question 3\n",
    "def sum(liste):\n",
    "    s=0\n",
    "    for i in liste:\n",
    "        s=s+i\n",
    "    print(s)\n",
    "def mult(liste):\n",
    "    s=1\n",
    "    for i in liste:\n",
    "        s=s*i\n",
    "    print(s)\n",
    "a=[0,1,2,3,4,5,6,7,8,9,10,11,12]\n",
    "sum(a[::2])\n",
    "mult(a[1::2])"
   ]
  },
  {
   "cell_type": "code",
   "execution_count": null,
   "id": "da1da16b-c917-4586-ab0e-15ecd2c8bfa9",
   "metadata": {},
   "outputs": [],
   "source": [
    "#question 4\n",
    "a=input('enter a set of words seperated by a (-) : ')\n",
    "x=a.split('-')\n",
    "x.sort()\n",
    "h=('')\n",
    "for i in range (len(x)):\n",
    "    h=h+'-'+x[i]\n",
    "print(h)"
   ]
  },
  {
   "cell_type": "code",
   "execution_count": null,
   "id": "94c3443c-344b-4824-9f6f-60fa39f35c9c",
   "metadata": {},
   "outputs": [],
   "source": [
    "#question 5\n",
    "import math\n",
    "def Q(c,h,d):\n",
    "    for i in range(len(d)):\n",
    "        q=math.sqrt((2*c*int(d[i])/h))\n",
    "        print(round(q))\n",
    "c=50\n",
    "h=30\n",
    "d=input('enter numbers comma-seperated: ')\n",
    "d=d.split(',')\n",
    "Q(c,h,d)"
   ]
  },
  {
   "cell_type": "code",
   "execution_count": null,
   "id": "898815f9-d91d-40a2-94ee-ac007d2ed65c",
   "metadata": {},
   "outputs": [],
   "source": []
  }
 ],
 "metadata": {
  "kernelspec": {
   "display_name": "Python 3",
   "language": "python",
   "name": "python3"
  },
  "language_info": {
   "codemirror_mode": {
    "name": "ipython",
    "version": 3
   },
   "file_extension": ".py",
   "mimetype": "text/x-python",
   "name": "python",
   "nbconvert_exporter": "python",
   "pygments_lexer": "ipython3",
   "version": "3.8.8"
  }
 },
 "nbformat": 4,
 "nbformat_minor": 5
}
